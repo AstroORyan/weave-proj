{
 "cells": [
  {
   "cell_type": "code",
   "execution_count": 2,
   "id": "10901c95-04ed-4cba-b962-1d3cef00e445",
   "metadata": {},
   "outputs": [],
   "source": [
    "from astropy.io import fits\n",
    "\n",
    "import glob"
   ]
  },
  {
   "cell_type": "code",
   "execution_count": 7,
   "id": "6ec86542-993b-4f74-ab16-27061f57b67f",
   "metadata": {},
   "outputs": [],
   "source": [
    "folder = 'C:/Users/oryan/Documents/weave-proj/example/data'"
   ]
  },
  {
   "cell_type": "code",
   "execution_count": 8,
   "id": "181e0c3c-64f7-4954-9f37-7ad13028e770",
   "metadata": {},
   "outputs": [],
   "source": [
    "files = glob.glob(f'{folder}/*.fits.gz')"
   ]
  },
  {
   "cell_type": "code",
   "execution_count": 9,
   "id": "79a022cc-94ae-4c69-8e08-8e445454d076",
   "metadata": {},
   "outputs": [
    {
     "data": {
      "text/plain": [
       "['C:/Users/oryan/Documents/weave-proj/example/data\\\\manga-11013-3702-LOGCUBE-arp239-prim.fits.gz',\n",
       " 'C:/Users/oryan/Documents/weave-proj/example/data\\\\manga-11020-6103-LOGCUBE-arp239-sec.fits.gz']"
      ]
     },
     "execution_count": 9,
     "metadata": {},
     "output_type": "execute_result"
    }
   ],
   "source": [
    "files"
   ]
  },
  {
   "cell_type": "code",
   "execution_count": 10,
   "id": "16ed2f87-d5ae-4e1c-9c92-a17c13bc9a26",
   "metadata": {},
   "outputs": [
    {
     "name": "stdout",
     "output_type": "stream",
     "text": [
      "[<astropy.io.fits.hdu.image.PrimaryHDU object at 0x000001F97C082208>, <astropy.io.fits.hdu.image.ImageHDU object at 0x000001F97C09A108>, <astropy.io.fits.hdu.image.ImageHDU object at 0x000001F97C055DC8>, <astropy.io.fits.hdu.image.ImageHDU object at 0x000001F97C09A448>, <astropy.io.fits.hdu.image.ImageHDU object at 0x000001F97C09F308>, <astropy.io.fits.hdu.image.ImageHDU object at 0x000001F97C0A3048>, <astropy.io.fits.hdu.image.ImageHDU object at 0x000001F97C0A3C08>, <astropy.io.fits.hdu.image.ImageHDU object at 0x000001F97C0A5648>, <astropy.io.fits.hdu.image.ImageHDU object at 0x000001F97C0A7088>, <astropy.io.fits.hdu.image.ImageHDU object at 0x000001F97C0A7A48>, <astropy.io.fits.hdu.image.ImageHDU object at 0x000001F97C0AB488>, <astropy.io.fits.hdu.table.BinTableHDU object at 0x000001F97C0B3F88>, <astropy.io.fits.hdu.image.ImageHDU object at 0x000001F97C8A9C88>, <astropy.io.fits.hdu.image.ImageHDU object at 0x000001F97C8AB148>, <astropy.io.fits.hdu.image.ImageHDU object at 0x000001F97C8C22C8>, <astropy.io.fits.hdu.image.ImageHDU object at 0x000001F97C8C7448>, <astropy.io.fits.hdu.image.ImageHDU object at 0x000001F97C8C95C8>, <astropy.io.fits.hdu.image.ImageHDU object at 0x000001F97C8CD748>, <astropy.io.fits.hdu.image.ImageHDU object at 0x000001F97C8D18C8>, <astropy.io.fits.hdu.image.ImageHDU object at 0x000001F97C8D4A48>, <astropy.io.fits.hdu.table.BinTableHDU object at 0x000001F97C8D7A88>, <astropy.io.fits.hdu.table.BinTableHDU object at 0x000001F97C8DA788>, <astropy.io.fits.hdu.table.BinTableHDU object at 0x000001F97C8DD488>, <astropy.io.fits.hdu.table.BinTableHDU object at 0x000001F97C8DA688>]\n"
     ]
    }
   ],
   "source": [
    "with fits.open(files[0]) as hdul:\n",
    "    print(hdul)"
   ]
  },
  {
   "cell_type": "code",
   "execution_count": 37,
   "id": "a192813d-d876-4985-a293-df05e103ec05",
   "metadata": {},
   "outputs": [],
   "source": [
    "with fits.open(files[0]) as hdul:\n",
    "    data = hdul[1].data\n",
    "    header = hdul[1].header"
   ]
  },
  {
   "cell_type": "code",
   "execution_count": 38,
   "id": "44bbc55f-43cd-447f-b961-f5538920ec26",
   "metadata": {},
   "outputs": [
    {
     "data": {
      "text/plain": [
       "XTENSION= 'IMAGE   '           / IMAGE extension                                \n",
       "BITPIX  =                  -32 / Number of bits per data pixel                  \n",
       "NAXIS   =                    3 / Number of data axes                            \n",
       "NAXIS1  =                   42 /                                                \n",
       "NAXIS2  =                   42 /                                                \n",
       "NAXIS3  =                 4563 /                                                \n",
       "PCOUNT  =                    0 / No Group Parameters                            \n",
       "GCOUNT  =                    1 / One Data Group                                 \n",
       "AUTHOR  = 'Brian Cherinka & David Law <bcherinka@stsci.edu, dlaw@stsci.edu>' /  \n",
       "VERSDRP2= 'v3_1_1  '           / MaNGA DRP version (2d processing)              \n",
       "VERSDRP3= 'v3_1_1  '           / MaNGA DRP Version (3d processing)              \n",
       "VERSPLDS= 'v5_1    '           / Platedesign Version                            \n",
       "VERSFLAT= 'v1_33   '           / Specflat Version                               \n",
       "VERSCORE= 'v1_9_1  '           / MaNGAcore Version                              \n",
       "VERSPRIM= 'v2_9    '           / MaNGA Preimaging Version                       \n",
       "VERSUTIL= 'v5_5_36 '           / Version of idlutils                            \n",
       "VERSIDL = 'x86_64 linux unix linux 7.1.1 Aug 21 2009 64 64 ' / Version of IDL   \n",
       "BSCALE  =              1.00000 / Intensity unit scaling                         \n",
       "BZERO   =              0.00000 / Intensity zeropoint                            \n",
       "BUNIT   = '1E-17 erg/s/cm^2/Angstrom/spaxel' / Specific intensity (per spaxel)  \n",
       "MASKNAME= 'MANGA_DRP3PIXMASK'  / Bits in sdssMaskbits.par used by mask extension\n",
       "TELESCOP= 'SDSS 2.5-M'         / Sloan Digital Sky Survey                       \n",
       "INSTRUME= 'MaNGA   '           / SDSS-IV MaNGA IFU                              \n",
       "SRVYMODE= 'MaNGA dither'       / Survey leading this observation and its mode   \n",
       "PLATETYP= 'APOGEE-2&MaNGA'     / Type of plate (e.g. MaNGA, APOGEE-2&MANGA)     \n",
       "OBJSYS  = 'ICRS    '           / The TCC objSys                                 \n",
       "EQUINOX =              2000.00 /                                                \n",
       "RADESYS = 'FK5     '           /                                                \n",
       "LAMPLIST= 'lamphgcdne.dat'     /                                                \n",
       "TPLDATA = 'BOSZ_3000-11000A.fits' /                                             \n",
       "NEXP    =                    9 / Total number of exposures                      \n",
       "EXPTIME =              8100.66 / Total exposure time (seconds)                  \n",
       "BLUESN2 =              24.8358 / Total SN2 in blue channel                      \n",
       "REDSN2  =              48.6604 / Total SN2 in red channel                       \n",
       "AIRMSMIN=              1.08560 / Minimum airmass                                \n",
       "AIRMSMED=              1.10759 / Median airmass                                 \n",
       "AIRMSMAX=              1.14432 / Maximum airmass                                \n",
       "SEEMIN  =              1.11851 / Best guider seeing                             \n",
       "SEEMED  =              1.18235 / Median guider seeing                           \n",
       "SEEMAX  =              1.46097 / Worst guider seeing                            \n",
       "TRANSMIN=             0.779099 / Worst guider transparency                      \n",
       "TRANSMED=             0.849722 / Median guider transparency                     \n",
       "TRANSMAX=             0.870935 / Best guider transparency                       \n",
       "MJDMIN  =                58581 / MJD of first exposure                          \n",
       "MJDMED  =                58582 / MJD of median exposure                         \n",
       "MJDMAX  =                58582 / MJD of last exposure                           \n",
       "DATE-OBS= '2019-04-09'         / Date of median exposure                        \n",
       "MJDRED  =                59187 / MJD of the reduction                           \n",
       "DATERED = '2020-12-04'         / Date of the reduction                          \n",
       "MNGTARG1=                 4160 / manga_target1 maskbit                          \n",
       "MNGTARG2=                    0 / manga_target2 maskbit                          \n",
       "MNGTARG3=                    0 / manga_target3 maskbit                          \n",
       "IFURA   =        205.415070000 / IFU R.A. (J2000 deg.)                          \n",
       "IFUDEC  =        55.6706470000 / IFU Dec. (J2000 deg.)                          \n",
       "OBJRA   =        205.415065461 / Object R.A. (J2000 deg.)                       \n",
       "OBJDEC  =        55.6706474881 / Object Dec. (J2000 deg.)                       \n",
       "CENRA   =        207.547520000 / Plate center R.A. (J2000 deg.)                 \n",
       "CENDEC  =        55.0728800000 / Plate center Dec. (J2000 deg.)                 \n",
       "PLATEID =                11013 / Current plate                                  \n",
       "DESIGNID=                11654 / Current design                                 \n",
       "IFUDSGN =                 3702 / ifuDesign                                      \n",
       "FRLPLUG =                   27 / Plugged ferrule                                \n",
       "PLATEIFU= '11013-3702'         / PLATEID-ifuDesign                              \n",
       "CARTID  = '5       '           / Cart(s) used                                   \n",
       "HARNAME = 'ma114   '           / Harness name(s)                                \n",
       "METFILE = 'ma114-56974-3.par'  / IFU metrology file(s)                          \n",
       "MANGAID = '1-627026'           / MaNGA ID number                                \n",
       "CATIDNUM= '1       '           / Primary target input catalog                   \n",
       "PLTTARG = 'plateTargets-1.par' / plateTarget reference file                     \n",
       "DRP3QUAL=                    0 / DRP-3d quality bitmask                         \n",
       "IFUGLON =        108.716939939 / IFU Galactic longitude (deg)                   \n",
       "IFUGLAT =        60.0500964010 / IFU Galactic latitude (deg)                    \n",
       "EBVGAL  =           0.00941922 / Galactic reddening E(B-V)                      \n",
       "GFWHM   =              2.34690 / Reconstructed FWHM in g-band (arcsec)          \n",
       "RFWHM   =              2.38539 / Reconstructed FWHM in r-band (arcsec)          \n",
       "IFWHM   =              2.41318 / Reconstructed FWHM in i-band (arcsec)          \n",
       "ZFWHM   =              2.42639 / Reconstructed FWHM in z-band (arcsec)          \n",
       "CTYPE3  = 'WAVE-LOG'           /                                                \n",
       "CRPIX3  =                    1 / Starting pixel (1-indexed)                     \n",
       "CRVAL3  =        3621.59598486 / Central wavelength of first pixel              \n",
       "CD3_3   =       0.833903304339 / Initial dispersion per pixel                   \n",
       "CUNIT3  = 'Angstrom'           /                                                \n",
       "CRPIX1  =              22.0000 /Reference pixel (1-indexed)                     \n",
       "CRPIX2  =              22.0000 /Reference pixel (1-indexed)                     \n",
       "CRVAL1  =        205.415070000 /                                                \n",
       "CRVAL2  =        55.6706470000 /                                                \n",
       "CD1_1   =         -0.000138889 /                                                \n",
       "CD2_2   =          0.000138889 /                                                \n",
       "CTYPE1  = 'RA---TAN'           /                                                \n",
       "CTYPE2  = 'DEC--TAN'           /                                                \n",
       "CUNIT1  = 'deg     '           /                                                \n",
       "CUNIT2  = 'deg     '           /                                                \n",
       "HDUCLASS= 'SDSS    '           /SDSS format class                               \n",
       "HDUCLAS1= 'CUBE    '           /                                                \n",
       "HDUCLAS2= 'DATA    '           /                                                \n",
       "ERRDATA = 'IVAR    '           / Error extension name                           \n",
       "QUALDATA= 'MASK    '           / Mask extension name                            \n",
       "EXTNAME = 'FLUX    '           /                                                \n",
       "DATASUM = '2694861214'         / data unit checksum updated 2020-12-04T08:47:47 \n",
       "CHECKSUM= 'Jg5MMf2JJf2JJf2J'   / HDU checksum updated 2020-12-04T08:47:47       "
      ]
     },
     "execution_count": 38,
     "metadata": {},
     "output_type": "execute_result"
    }
   ],
   "source": [
    "header"
   ]
  },
  {
   "cell_type": "markdown",
   "id": "fde6047d-fea9-4c93-b469-a2ed2cf8093e",
   "metadata": {},
   "source": [
    "For a full tutorial on reading the data, go here:\n",
    "\n",
    "https://www.sdss4.org/dr17/manga/manga-tutorials/how-do-i-look-at-my-data/python/"
   ]
  },
  {
   "cell_type": "code",
   "execution_count": null,
   "id": "af3a8fda-95f3-4ca3-88c1-413bbcb97875",
   "metadata": {},
   "outputs": [],
   "source": []
  }
 ],
 "metadata": {
  "kernelspec": {
   "display_name": "Python 3 (ipykernel)",
   "language": "python",
   "name": "python3"
  },
  "language_info": {
   "codemirror_mode": {
    "name": "ipython",
    "version": 3
   },
   "file_extension": ".py",
   "mimetype": "text/x-python",
   "name": "python",
   "nbconvert_exporter": "python",
   "pygments_lexer": "ipython3",
   "version": "3.7.13"
  }
 },
 "nbformat": 4,
 "nbformat_minor": 5
}
