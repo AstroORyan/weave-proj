{
 "cells": [
  {
   "cell_type": "code",
   "execution_count": 54,
   "id": "2403d2b1-e9d1-4d68-a243-302c03747a6b",
   "metadata": {},
   "outputs": [],
   "source": [
    "from astropy.io import fits\n",
    "\n",
    "import pandas as pd"
   ]
  },
  {
   "cell_type": "markdown",
   "id": "2cd62ed8-15dd-4ec5-85ff-139d333affeb",
   "metadata": {},
   "source": [
    "## Importing Data"
   ]
  },
  {
   "cell_type": "code",
   "execution_count": 2,
   "id": "9af9755e-ea83-489c-89e2-ea6257bebb97",
   "metadata": {},
   "outputs": [],
   "source": [
    "folder = 'C:/Users/oryan/Documents/weave-proj'\n",
    "data_folder = f'{folder}/data'\n",
    "catalogue_folder = f'{folder}/catalogue'"
   ]
  },
  {
   "cell_type": "code",
   "execution_count": 24,
   "id": "c67e0a78-9b32-49ec-8baf-ba5d4e6b1e9b",
   "metadata": {},
   "outputs": [],
   "source": [
    "with fits.open(f'{catalogue_folder}/WS2024A2-001_CatalogueTemplate.fits') as hdul:\n",
    "    header = hdul[1].header\n",
    "    data = hdul[1].data"
   ]
  },
  {
   "cell_type": "code",
   "execution_count": 52,
   "id": "d82afc0f-d026-4e26-898e-8124df86f0d0",
   "metadata": {},
   "outputs": [],
   "source": [
    "column_names = data.columns.names"
   ]
  },
  {
   "cell_type": "code",
   "execution_count": 58,
   "id": "b58dddb4-5c15-48fe-99f0-af8c3236be84",
   "metadata": {},
   "outputs": [],
   "source": [
    "df_empty = pd.DataFrame(data = None, index = range(0, 14), columns = column_names)"
   ]
  },
  {
   "cell_type": "code",
   "execution_count": 60,
   "id": "6ed1bbe8-d77f-4eed-b844-231d0bb58666",
   "metadata": {},
   "outputs": [],
   "source": [
    "df_empty.to_csv(f'{catalogue_folder}/empty-catalogue.csv')"
   ]
  },
  {
   "cell_type": "markdown",
   "id": "6f4ab8ad-f3fe-451b-ab76-430f288c8cab",
   "metadata": {},
   "source": [
    "### Converting Filled in Catalogue to a FITS File"
   ]
  },
  {
   "cell_type": "code",
   "execution_count": 62,
   "id": "20d697ae-103b-47e7-8f87-a21f769d908c",
   "metadata": {},
   "outputs": [
    {
     "data": {
      "text/plain": [
       "['CNAME',\n",
       " 'TARGSRVY',\n",
       " 'TARGPROG',\n",
       " 'TARGCAT',\n",
       " 'TARGID',\n",
       " 'TARGNAME',\n",
       " 'TARGPRIO',\n",
       " 'TARGUSE',\n",
       " 'TARGCLASS',\n",
       " 'PROGTEMP',\n",
       " 'OBSTEMP',\n",
       " 'GAIA_ID',\n",
       " 'GAIA_DR',\n",
       " 'GAIA_RA',\n",
       " 'GAIA_DEC',\n",
       " 'GAIA_EPOCH',\n",
       " 'GAIA_PMRA',\n",
       " 'GAIA_PMRA_ERR',\n",
       " 'GAIA_PMDEC',\n",
       " 'GAIA_PMDEC_ERR',\n",
       " 'GAIA_PARAL',\n",
       " 'GAIA_PARAL_ERR',\n",
       " 'HEALPIX',\n",
       " 'IFU_SPAXEL',\n",
       " 'IFU_PA',\n",
       " 'IFU_DITHER',\n",
       " 'MAG_G',\n",
       " 'MAG_G_ERR',\n",
       " 'MAG_R',\n",
       " 'MAG_R_ERR',\n",
       " 'MAG_I',\n",
       " 'MAG_I_ERR',\n",
       " 'GAIA_MAG_G',\n",
       " 'GAIA_MAG_G_ERR',\n",
       " 'GAIA_MAG_BP',\n",
       " 'GAIA_MAG_BP_ERR',\n",
       " 'GAIA_MAG_RP',\n",
       " 'GAIA_MAG_RP_ERR',\n",
       " 'APS_WL_MIN',\n",
       " 'APS_WL_MAX',\n",
       " 'APS_Z',\n",
       " 'APS_SIGMA',\n",
       " 'APS_TEMPL_LIB',\n",
       " 'APS_TEMPL_LIB_NORM',\n",
       " 'APS_PPXF_WL_MIN',\n",
       " 'APS_PPXF_WL_MAX',\n",
       " 'APS_PPXF_MOM',\n",
       " 'APS_PPXF_DEG_ADD',\n",
       " 'APS_PPXF_DEG_MULT',\n",
       " 'APS_PPXF_NUM_MC',\n",
       " 'APS_GAND_MODE',\n",
       " 'APS_GAND_ERR',\n",
       " 'APS_GAND_RED1',\n",
       " 'APS_GAND_RED2',\n",
       " 'APS_GAND_EBV',\n",
       " 'APS_LS_MODE',\n",
       " 'APS_LS_RES',\n",
       " 'APS_LS_NUM_MC',\n",
       " 'APS_SSP_NUM_WLKR',\n",
       " 'APS_SSP_NUM_CHAIN',\n",
       " 'APS_IFU_MASK',\n",
       " 'APS_IFU_TSSL_TYPE',\n",
       " 'APS_IFU_TSSL_TARG_SNR',\n",
       " 'APS_IFU_TSSL_MIN_SNR',\n",
       " 'APS_IFU_TSSL_COVAR',\n",
       " 'APS_IFU_SRC_ID',\n",
       " 'APS_IFU_SRC_RA',\n",
       " 'APS_IFU_SRC_DEC',\n",
       " 'APS_FLAG',\n",
       " 'OPTCAT',\n",
       " 'OPTCAT_DR',\n",
       " 'OPTCAT_ID',\n",
       " 'OPTCAT_MAG_G',\n",
       " 'OPTCAT_MAG_G_ERR',\n",
       " 'OPTCAT_MAG_I',\n",
       " 'OPTCAT_MAG_I_ERR',\n",
       " 'OPTCAT_MAG_R',\n",
       " 'OPTCAT_MAG_R_ERR']"
      ]
     },
     "execution_count": 62,
     "metadata": {},
     "output_type": "execute_result"
    }
   ],
   "source": [
    "column_names"
   ]
  },
  {
   "cell_type": "code",
   "execution_count": null,
   "id": "ba69429d-3bf3-4514-b6ed-8fca04cb2ee9",
   "metadata": {},
   "outputs": [],
   "source": []
  }
 ],
 "metadata": {
  "kernelspec": {
   "display_name": "Python 3 (ipykernel)",
   "language": "python",
   "name": "python3"
  },
  "language_info": {
   "codemirror_mode": {
    "name": "ipython",
    "version": 3
   },
   "file_extension": ".py",
   "mimetype": "text/x-python",
   "name": "python",
   "nbconvert_exporter": "python",
   "pygments_lexer": "ipython3",
   "version": "3.7.13"
  }
 },
 "nbformat": 4,
 "nbformat_minor": 5
}
