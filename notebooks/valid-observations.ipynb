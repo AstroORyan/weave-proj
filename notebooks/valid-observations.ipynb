{
 "cells": [
  {
   "cell_type": "code",
   "execution_count": 1,
   "id": "b6deb4af-d6b4-4c0c-9613-82dd1edb66dc",
   "metadata": {},
   "outputs": [],
   "source": [
    "import pandas as pd"
   ]
  },
  {
   "cell_type": "code",
   "execution_count": 3,
   "id": "2fa2a799-6c1d-4b4e-af2b-d9baee8fc4f8",
   "metadata": {},
   "outputs": [],
   "source": [
    "folder = 'C:/Users/oryan/Documents/weave-proj'"
   ]
  },
  {
   "cell_type": "code",
   "execution_count": 6,
   "id": "d4118b70-d24f-422c-833b-7ceb09be95d9",
   "metadata": {},
   "outputs": [],
   "source": [
    "df = pd.read_csv(f'{folder}/data/potential-target-list-rem.csv', index_col = 0)"
   ]
  },
  {
   "cell_type": "code",
   "execution_count": 12,
   "id": "71319554-47d2-4136-a5f5-3f78132c24e2",
   "metadata": {},
   "outputs": [],
   "source": [
    "df_red = df.query('possible == \"y\"').reset_index().drop(columns = ['possible', 'index'])"
   ]
  },
  {
   "cell_type": "code",
   "execution_count": 14,
   "id": "70484b84-27c9-4cab-9452-23595a64f27e",
   "metadata": {},
   "outputs": [],
   "source": [
    "df_red.to_csv(f'{folder}/data/valid-targets-manifest.csv')"
   ]
  },
  {
   "cell_type": "code",
   "execution_count": null,
   "id": "438810b0-b08c-46c3-9bbe-fe84b8fe62ff",
   "metadata": {},
   "outputs": [],
   "source": []
  }
 ],
 "metadata": {
  "kernelspec": {
   "display_name": "Python 3 (ipykernel)",
   "language": "python",
   "name": "python3"
  },
  "language_info": {
   "codemirror_mode": {
    "name": "ipython",
    "version": 3
   },
   "file_extension": ".py",
   "mimetype": "text/x-python",
   "name": "python",
   "nbconvert_exporter": "python",
   "pygments_lexer": "ipython3",
   "version": "3.7.13"
  }
 },
 "nbformat": 4,
 "nbformat_minor": 5
}
