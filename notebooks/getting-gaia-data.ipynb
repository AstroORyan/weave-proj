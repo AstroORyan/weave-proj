{
 "cells": [
  {
   "cell_type": "code",
   "execution_count": 8,
   "id": "7cb10533-8f63-4641-b4fd-e95cee0612fd",
   "metadata": {},
   "outputs": [],
   "source": [
    "from astroquery.gaia import Gaia\n",
    "from astropy.coordinates import SkyCoord\n",
    "import astropy.units as u\n",
    "\n",
    "import pandas as pd"
   ]
  },
  {
   "cell_type": "markdown",
   "id": "d69dd93b-08a0-4eb6-856d-4522c4e147b4",
   "metadata": {},
   "source": [
    "## Getting GAIA Info"
   ]
  },
  {
   "cell_type": "code",
   "execution_count": 2,
   "id": "d210cbde-8cfc-436b-a66c-faf7ca46a699",
   "metadata": {},
   "outputs": [],
   "source": [
    "catalogue_folder = 'C:/Users/oryan/Documents/weave-proj/data'"
   ]
  },
  {
   "cell_type": "code",
   "execution_count": 6,
   "id": "216dfb67-0025-424d-aeab-242d9582f7b1",
   "metadata": {},
   "outputs": [],
   "source": [
    "df = pd.read_csv(f'{catalogue_folder}/obs-all-details.csv', index_col = 0)[['RA', 'Dec', 'Equinox']]"
   ]
  },
  {
   "cell_type": "code",
   "execution_count": 11,
   "id": "5e4f80e6-9712-41da-af78-901989647a20",
   "metadata": {},
   "outputs": [
    {
     "data": {
      "text/html": [
       "<div>\n",
       "<style scoped>\n",
       "    .dataframe tbody tr th:only-of-type {\n",
       "        vertical-align: middle;\n",
       "    }\n",
       "\n",
       "    .dataframe tbody tr th {\n",
       "        vertical-align: top;\n",
       "    }\n",
       "\n",
       "    .dataframe thead th {\n",
       "        text-align: right;\n",
       "    }\n",
       "</style>\n",
       "<table border=\"1\" class=\"dataframe\">\n",
       "  <thead>\n",
       "    <tr style=\"text-align: right;\">\n",
       "      <th></th>\n",
       "      <th>RA</th>\n",
       "      <th>Dec</th>\n",
       "      <th>Equinox</th>\n",
       "    </tr>\n",
       "    <tr>\n",
       "      <th>Name</th>\n",
       "      <th></th>\n",
       "      <th></th>\n",
       "      <th></th>\n",
       "    </tr>\n",
       "  </thead>\n",
       "  <tbody>\n",
       "    <tr>\n",
       "      <th>Arp105_s3</th>\n",
       "      <td>11:11:13</td>\n",
       "      <td>+28:42:42.2</td>\n",
       "      <td>J2000.0</td>\n",
       "    </tr>\n",
       "    <tr>\n",
       "      <th>Arp148_s1</th>\n",
       "      <td>11:03:53</td>\n",
       "      <td>+40:50:57.0</td>\n",
       "      <td>J2000.0</td>\n",
       "    </tr>\n",
       "    <tr>\n",
       "      <th>Arp172_s3</th>\n",
       "      <td>16:05:34</td>\n",
       "      <td>+17:35:47.4</td>\n",
       "      <td>J2000.0</td>\n",
       "    </tr>\n",
       "    <tr>\n",
       "      <th>Heart_s4</th>\n",
       "      <td>15:53:09</td>\n",
       "      <td>+54:08:50.5</td>\n",
       "      <td>J2000.0</td>\n",
       "    </tr>\n",
       "    <tr>\n",
       "      <th>Arp240_1_s2</th>\n",
       "      <td>13:39:53</td>\n",
       "      <td>+00:50:23.4</td>\n",
       "      <td>J2000.0</td>\n",
       "    </tr>\n",
       "  </tbody>\n",
       "</table>\n",
       "</div>"
      ],
      "text/plain": [
       "                   RA          Dec  Equinox\n",
       "Name                                       \n",
       "Arp105_s3    11:11:13  +28:42:42.2  J2000.0\n",
       "Arp148_s1    11:03:53  +40:50:57.0  J2000.0\n",
       "Arp172_s3    16:05:34  +17:35:47.4  J2000.0\n",
       "Heart_s4     15:53:09  +54:08:50.5  J2000.0\n",
       "Arp240_1_s2  13:39:53  +00:50:23.4  J2000.0"
      ]
     },
     "execution_count": 11,
     "metadata": {},
     "output_type": "execute_result"
    }
   ],
   "source": [
    "df.head()"
   ]
  },
  {
   "cell_type": "code",
   "execution_count": 13,
   "id": "d90967eb-245c-4993-863b-c845bae3242a",
   "metadata": {},
   "outputs": [],
   "source": [
    "df_coords = df.assign(coords = df.apply(lambda row: SkyCoord(f'{row.RA} {row.Dec}', unit = (u.hourangle, u.deg), frame = 'fk5'), axis = 1))"
   ]
  },
  {
   "cell_type": "code",
   "execution_count": 17,
   "id": "f6159898-0630-4c3f-b5e5-3d17b3924108",
   "metadata": {},
   "outputs": [
    {
     "data": {
      "text/html": [
       "<div>\n",
       "<style scoped>\n",
       "    .dataframe tbody tr th:only-of-type {\n",
       "        vertical-align: middle;\n",
       "    }\n",
       "\n",
       "    .dataframe tbody tr th {\n",
       "        vertical-align: top;\n",
       "    }\n",
       "\n",
       "    .dataframe thead th {\n",
       "        text-align: right;\n",
       "    }\n",
       "</style>\n",
       "<table border=\"1\" class=\"dataframe\">\n",
       "  <thead>\n",
       "    <tr style=\"text-align: right;\">\n",
       "      <th></th>\n",
       "      <th>RA</th>\n",
       "      <th>Dec</th>\n",
       "      <th>Equinox</th>\n",
       "      <th>coords</th>\n",
       "    </tr>\n",
       "    <tr>\n",
       "      <th>Name</th>\n",
       "      <th></th>\n",
       "      <th></th>\n",
       "      <th></th>\n",
       "      <th></th>\n",
       "    </tr>\n",
       "  </thead>\n",
       "  <tbody>\n",
       "    <tr>\n",
       "      <th>Arp105_s3</th>\n",
       "      <td>11:11:13</td>\n",
       "      <td>+28:42:42.2</td>\n",
       "      <td>J2000.0</td>\n",
       "      <td>&lt;SkyCoord (FK5: equinox=J2000.000): (ra, dec) ...</td>\n",
       "    </tr>\n",
       "    <tr>\n",
       "      <th>Arp148_s1</th>\n",
       "      <td>11:03:53</td>\n",
       "      <td>+40:50:57.0</td>\n",
       "      <td>J2000.0</td>\n",
       "      <td>&lt;SkyCoord (FK5: equinox=J2000.000): (ra, dec) ...</td>\n",
       "    </tr>\n",
       "    <tr>\n",
       "      <th>Arp172_s3</th>\n",
       "      <td>16:05:34</td>\n",
       "      <td>+17:35:47.4</td>\n",
       "      <td>J2000.0</td>\n",
       "      <td>&lt;SkyCoord (FK5: equinox=J2000.000): (ra, dec) ...</td>\n",
       "    </tr>\n",
       "    <tr>\n",
       "      <th>Heart_s4</th>\n",
       "      <td>15:53:09</td>\n",
       "      <td>+54:08:50.5</td>\n",
       "      <td>J2000.0</td>\n",
       "      <td>&lt;SkyCoord (FK5: equinox=J2000.000): (ra, dec) ...</td>\n",
       "    </tr>\n",
       "    <tr>\n",
       "      <th>Arp240_1_s2</th>\n",
       "      <td>13:39:53</td>\n",
       "      <td>+00:50:23.4</td>\n",
       "      <td>J2000.0</td>\n",
       "      <td>&lt;SkyCoord (FK5: equinox=J2000.000): (ra, dec) ...</td>\n",
       "    </tr>\n",
       "  </tbody>\n",
       "</table>\n",
       "</div>"
      ],
      "text/plain": [
       "                   RA          Dec  Equinox  \\\n",
       "Name                                          \n",
       "Arp105_s3    11:11:13  +28:42:42.2  J2000.0   \n",
       "Arp148_s1    11:03:53  +40:50:57.0  J2000.0   \n",
       "Arp172_s3    16:05:34  +17:35:47.4  J2000.0   \n",
       "Heart_s4     15:53:09  +54:08:50.5  J2000.0   \n",
       "Arp240_1_s2  13:39:53  +00:50:23.4  J2000.0   \n",
       "\n",
       "                                                        coords  \n",
       "Name                                                            \n",
       "Arp105_s3    <SkyCoord (FK5: equinox=J2000.000): (ra, dec) ...  \n",
       "Arp148_s1    <SkyCoord (FK5: equinox=J2000.000): (ra, dec) ...  \n",
       "Arp172_s3    <SkyCoord (FK5: equinox=J2000.000): (ra, dec) ...  \n",
       "Heart_s4     <SkyCoord (FK5: equinox=J2000.000): (ra, dec) ...  \n",
       "Arp240_1_s2  <SkyCoord (FK5: equinox=J2000.000): (ra, dec) ...  "
      ]
     },
     "execution_count": 17,
     "metadata": {},
     "output_type": "execute_result"
    }
   ],
   "source": [
    "df_coords.head()"
   ]
  },
  {
   "cell_type": "code",
   "execution_count": 16,
   "id": "86f74269-7da3-48c8-9af3-faf51f29365d",
   "metadata": {},
   "outputs": [
    {
     "data": {
      "text/plain": [
       "<SkyCoord (FK5: equinox=J2000.000): (ra, dec) in deg\n",
       "    (167.80416667, 28.71172222)>"
      ]
     },
     "execution_count": 16,
     "metadata": {},
     "output_type": "execute_result"
    }
   ],
   "source": [
    "df_coords.coords.iloc[0]"
   ]
  },
  {
   "cell_type": "code",
   "execution_count": 18,
   "id": "55158dfb-3357-4f8c-9248-08d5d817db38",
   "metadata": {},
   "outputs": [],
   "source": [
    "radius = 5 * u.arcsec"
   ]
  },
  {
   "cell_type": "code",
   "execution_count": 19,
   "id": "77437911-29ee-43d5-aea4-a6da11b40783",
   "metadata": {},
   "outputs": [
    {
     "name": "stdout",
     "output_type": "stream",
     "text": [
      "INFO: Query finished. [astroquery.utils.tap.core]\n"
     ]
    }
   ],
   "source": [
    "j = Gaia.cone_search_async(df_coords.coords.iloc[0], radius = radius)"
   ]
  },
  {
   "cell_type": "code",
   "execution_count": 21,
   "id": "b46bac51-31d5-4bd1-8e73-c162f0dfe343",
   "metadata": {},
   "outputs": [],
   "source": [
    "r = j.get_results()"
   ]
  },
  {
   "cell_type": "code",
   "execution_count": 22,
   "id": "8781b684-f5d3-4a26-a7b3-3eb8eec01ca2",
   "metadata": {},
   "outputs": [
    {
     "name": "stdout",
     "output_type": "stream",
     "text": [
      "    solution_id             DESIGNATION          ...          dist         \n",
      "                                                 ...                       \n",
      "------------------- ---------------------------- ... ----------------------\n",
      "1636148068921376768 Gaia DR3 3999002134719801728 ... 0.00014034499950947227\n",
      "1636148068921376768 Gaia DR3 3999002134719801472 ... 0.00021482290751192667\n"
     ]
    }
   ],
   "source": [
    "r.pprint()"
   ]
  },
  {
   "cell_type": "code",
   "execution_count": 31,
   "id": "ed0af8bb-aba9-4bd7-9967-f11008966da3",
   "metadata": {},
   "outputs": [
    {
     "data": {
      "text/html": [
       "&lt;MaskedColumn name=&apos;dist&apos; dtype=&apos;float64&apos; length=2&gt;\n",
       "<table>\n",
       "<tr><td>0.00014034499950947227</td></tr>\n",
       "<tr><td>0.00021482290751192667</td></tr>\n",
       "</table>"
      ],
      "text/plain": [
       "<MaskedColumn name='dist' dtype='float64' length=2>\n",
       "0.00014034499950947227\n",
       "0.00021482290751192667"
      ]
     },
     "execution_count": 31,
     "metadata": {},
     "output_type": "execute_result"
    }
   ],
   "source": [
    "r['dist']"
   ]
  },
  {
   "cell_type": "code",
   "execution_count": 26,
   "id": "b81112d6-12b3-4c7a-b846-8aa1c413fefe",
   "metadata": {},
   "outputs": [
    {
     "data": {
      "text/plain": [
       "['solution_id',\n",
       " 'DESIGNATION',\n",
       " 'SOURCE_ID',\n",
       " 'random_index',\n",
       " 'ref_epoch',\n",
       " 'ra',\n",
       " 'ra_error',\n",
       " 'dec',\n",
       " 'dec_error',\n",
       " 'parallax',\n",
       " 'parallax_error',\n",
       " 'parallax_over_error',\n",
       " 'pm',\n",
       " 'pmra',\n",
       " 'pmra_error',\n",
       " 'pmdec',\n",
       " 'pmdec_error',\n",
       " 'ra_dec_corr',\n",
       " 'ra_parallax_corr',\n",
       " 'ra_pmra_corr',\n",
       " 'ra_pmdec_corr',\n",
       " 'dec_parallax_corr',\n",
       " 'dec_pmra_corr',\n",
       " 'dec_pmdec_corr',\n",
       " 'parallax_pmra_corr',\n",
       " 'parallax_pmdec_corr',\n",
       " 'pmra_pmdec_corr',\n",
       " 'astrometric_n_obs_al',\n",
       " 'astrometric_n_obs_ac',\n",
       " 'astrometric_n_good_obs_al',\n",
       " 'astrometric_n_bad_obs_al',\n",
       " 'astrometric_gof_al',\n",
       " 'astrometric_chi2_al',\n",
       " 'astrometric_excess_noise',\n",
       " 'astrometric_excess_noise_sig',\n",
       " 'astrometric_params_solved',\n",
       " 'astrometric_primary_flag',\n",
       " 'nu_eff_used_in_astrometry',\n",
       " 'pseudocolour',\n",
       " 'pseudocolour_error',\n",
       " 'ra_pseudocolour_corr',\n",
       " 'dec_pseudocolour_corr',\n",
       " 'parallax_pseudocolour_corr',\n",
       " 'pmra_pseudocolour_corr',\n",
       " 'pmdec_pseudocolour_corr',\n",
       " 'astrometric_matched_transits',\n",
       " 'visibility_periods_used',\n",
       " 'astrometric_sigma5d_max',\n",
       " 'matched_transits',\n",
       " 'new_matched_transits',\n",
       " 'matched_transits_removed',\n",
       " 'ipd_gof_harmonic_amplitude',\n",
       " 'ipd_gof_harmonic_phase',\n",
       " 'ipd_frac_multi_peak',\n",
       " 'ipd_frac_odd_win',\n",
       " 'ruwe',\n",
       " 'scan_direction_strength_k1',\n",
       " 'scan_direction_strength_k2',\n",
       " 'scan_direction_strength_k3',\n",
       " 'scan_direction_strength_k4',\n",
       " 'scan_direction_mean_k1',\n",
       " 'scan_direction_mean_k2',\n",
       " 'scan_direction_mean_k3',\n",
       " 'scan_direction_mean_k4',\n",
       " 'duplicated_source',\n",
       " 'phot_g_n_obs',\n",
       " 'phot_g_mean_flux',\n",
       " 'phot_g_mean_flux_error',\n",
       " 'phot_g_mean_flux_over_error',\n",
       " 'phot_g_mean_mag',\n",
       " 'phot_bp_n_obs',\n",
       " 'phot_bp_mean_flux',\n",
       " 'phot_bp_mean_flux_error',\n",
       " 'phot_bp_mean_flux_over_error',\n",
       " 'phot_bp_mean_mag',\n",
       " 'phot_rp_n_obs',\n",
       " 'phot_rp_mean_flux',\n",
       " 'phot_rp_mean_flux_error',\n",
       " 'phot_rp_mean_flux_over_error',\n",
       " 'phot_rp_mean_mag',\n",
       " 'phot_bp_rp_excess_factor',\n",
       " 'phot_bp_n_contaminated_transits',\n",
       " 'phot_bp_n_blended_transits',\n",
       " 'phot_rp_n_contaminated_transits',\n",
       " 'phot_rp_n_blended_transits',\n",
       " 'phot_proc_mode',\n",
       " 'bp_rp',\n",
       " 'bp_g',\n",
       " 'g_rp',\n",
       " 'radial_velocity',\n",
       " 'radial_velocity_error',\n",
       " 'rv_method_used',\n",
       " 'rv_nb_transits',\n",
       " 'rv_nb_deblended_transits',\n",
       " 'rv_visibility_periods_used',\n",
       " 'rv_expected_sig_to_noise',\n",
       " 'rv_renormalised_gof',\n",
       " 'rv_chisq_pvalue',\n",
       " 'rv_time_duration',\n",
       " 'rv_amplitude_robust',\n",
       " 'rv_template_teff',\n",
       " 'rv_template_logg',\n",
       " 'rv_template_fe_h',\n",
       " 'rv_atm_param_origin',\n",
       " 'vbroad',\n",
       " 'vbroad_error',\n",
       " 'vbroad_nb_transits',\n",
       " 'grvs_mag',\n",
       " 'grvs_mag_error',\n",
       " 'grvs_mag_nb_transits',\n",
       " 'rvs_spec_sig_to_noise',\n",
       " 'phot_variable_flag',\n",
       " 'l',\n",
       " 'b',\n",
       " 'ecl_lon',\n",
       " 'ecl_lat',\n",
       " 'in_qso_candidates',\n",
       " 'in_galaxy_candidates',\n",
       " 'non_single_star',\n",
       " 'has_xp_continuous',\n",
       " 'has_xp_sampled',\n",
       " 'has_rvs',\n",
       " 'has_epoch_photometry',\n",
       " 'has_epoch_rv',\n",
       " 'has_mcmc_gspphot',\n",
       " 'has_mcmc_msc',\n",
       " 'in_andromeda_survey',\n",
       " 'classprob_dsc_combmod_quasar',\n",
       " 'classprob_dsc_combmod_galaxy',\n",
       " 'classprob_dsc_combmod_star',\n",
       " 'teff_gspphot',\n",
       " 'teff_gspphot_lower',\n",
       " 'teff_gspphot_upper',\n",
       " 'logg_gspphot',\n",
       " 'logg_gspphot_lower',\n",
       " 'logg_gspphot_upper',\n",
       " 'mh_gspphot',\n",
       " 'mh_gspphot_lower',\n",
       " 'mh_gspphot_upper',\n",
       " 'distance_gspphot',\n",
       " 'distance_gspphot_lower',\n",
       " 'distance_gspphot_upper',\n",
       " 'azero_gspphot',\n",
       " 'azero_gspphot_lower',\n",
       " 'azero_gspphot_upper',\n",
       " 'ag_gspphot',\n",
       " 'ag_gspphot_lower',\n",
       " 'ag_gspphot_upper',\n",
       " 'ebpminrp_gspphot',\n",
       " 'ebpminrp_gspphot_lower',\n",
       " 'ebpminrp_gspphot_upper',\n",
       " 'libname_gspphot',\n",
       " 'dist']"
      ]
     },
     "execution_count": 26,
     "metadata": {},
     "output_type": "execute_result"
    }
   ],
   "source": [
    "list(r.columns)"
   ]
  },
  {
   "cell_type": "code",
   "execution_count": null,
   "id": "d00b2ef4-1172-46de-b5e2-085a38a1457a",
   "metadata": {},
   "outputs": [],
   "source": []
  }
 ],
 "metadata": {
  "kernelspec": {
   "display_name": "Python 3 (ipykernel)",
   "language": "python",
   "name": "python3"
  },
  "language_info": {
   "codemirror_mode": {
    "name": "ipython",
    "version": 3
   },
   "file_extension": ".py",
   "mimetype": "text/x-python",
   "name": "python",
   "nbconvert_exporter": "python",
   "pygments_lexer": "ipython3",
   "version": "3.7.13"
  }
 },
 "nbformat": 4,
 "nbformat_minor": 5
}
