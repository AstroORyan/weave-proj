{
 "cells": [
  {
   "cell_type": "code",
   "execution_count": 1,
   "id": "9bd23023-9d2c-4eb2-a556-b433c6053f6f",
   "metadata": {},
   "outputs": [],
   "source": [
    "import pandas as pd"
   ]
  },
  {
   "cell_type": "code",
   "execution_count": 2,
   "id": "6deaad19-bbb0-4a0d-a304-9b38fb65d138",
   "metadata": {},
   "outputs": [],
   "source": [
    "folder = 'C:/Users/oryan/Documents/weave-proj/data'"
   ]
  },
  {
   "cell_type": "code",
   "execution_count": 5,
   "id": "8478612b-b0e2-4e91-959a-455a48718ee7",
   "metadata": {},
   "outputs": [],
   "source": [
    "df = pd.read_csv(f'{folder}/available-targets-all-secs.csv', index_col = 0).reset_index().drop(columns = 'index')"
   ]
  },
  {
   "cell_type": "code",
   "execution_count": 19,
   "id": "7c22d25e-2019-4a4d-a318-1b204e144238",
   "metadata": {},
   "outputs": [],
   "source": [
    "df_prims = df[['Names', 'Prim_RA', 'Prim_DEC']].assign(names = df.Names.apply(lambda x: x + '_1')).rename(columns = {'Prim_RA' : 'RA', 'Prim_DEC' : 'Dec'})\n",
    "df_secs = df[['Names','Sec_RA', 'Sec_DEC']].assign(names = df.Names.apply(lambda x: x + '_2')).rename(columns = {'Sec_RA' : 'RA', 'Sec_DEC' : 'Dec'})"
   ]
  },
  {
   "cell_type": "code",
   "execution_count": 20,
   "id": "255b1182-24cb-40f1-91cf-e2f483e6dd6b",
   "metadata": {},
   "outputs": [],
   "source": [
    "df_comb = pd.concat([df_prims, df_secs]).sort_values('names')"
   ]
  },
  {
   "cell_type": "code",
   "execution_count": 21,
   "id": "e245058b-cecf-43db-8434-c18d1025e092",
   "metadata": {},
   "outputs": [
    {
     "data": {
      "text/html": [
       "<div>\n",
       "<style scoped>\n",
       "    .dataframe tbody tr th:only-of-type {\n",
       "        vertical-align: middle;\n",
       "    }\n",
       "\n",
       "    .dataframe tbody tr th {\n",
       "        vertical-align: top;\n",
       "    }\n",
       "\n",
       "    .dataframe thead th {\n",
       "        text-align: right;\n",
       "    }\n",
       "</style>\n",
       "<table border=\"1\" class=\"dataframe\">\n",
       "  <thead>\n",
       "    <tr style=\"text-align: right;\">\n",
       "      <th></th>\n",
       "      <th>Names</th>\n",
       "      <th>RA</th>\n",
       "      <th>Dec</th>\n",
       "      <th>names</th>\n",
       "    </tr>\n",
       "  </thead>\n",
       "  <tbody>\n",
       "    <tr>\n",
       "      <th>37</th>\n",
       "      <td>Arp101</td>\n",
       "      <td>241.132250</td>\n",
       "      <td>14.819136</td>\n",
       "      <td>Arp101_1</td>\n",
       "    </tr>\n",
       "    <tr>\n",
       "      <th>37</th>\n",
       "      <td>Arp101</td>\n",
       "      <td>241.118167</td>\n",
       "      <td>14.782103</td>\n",
       "      <td>Arp101_2</td>\n",
       "    </tr>\n",
       "    <tr>\n",
       "      <th>17</th>\n",
       "      <td>Arp105</td>\n",
       "      <td>167.803750</td>\n",
       "      <td>28.711781</td>\n",
       "      <td>Arp105_1</td>\n",
       "    </tr>\n",
       "    <tr>\n",
       "      <th>17</th>\n",
       "      <td>Arp105</td>\n",
       "      <td>167.804583</td>\n",
       "      <td>28.696225</td>\n",
       "      <td>Arp105_2</td>\n",
       "    </tr>\n",
       "    <tr>\n",
       "      <th>18</th>\n",
       "      <td>Arp106</td>\n",
       "      <td>183.899292</td>\n",
       "      <td>28.177728</td>\n",
       "      <td>Arp106_1</td>\n",
       "    </tr>\n",
       "    <tr>\n",
       "      <th>...</th>\n",
       "      <td>...</td>\n",
       "      <td>...</td>\n",
       "      <td>...</td>\n",
       "      <td>...</td>\n",
       "    </tr>\n",
       "    <tr>\n",
       "      <th>35</th>\n",
       "      <td>Pair18</td>\n",
       "      <td>206.212483</td>\n",
       "      <td>13.927621</td>\n",
       "      <td>Pair18_2</td>\n",
       "    </tr>\n",
       "    <tr>\n",
       "      <th>27</th>\n",
       "      <td>UGC10650</td>\n",
       "      <td>255.028542</td>\n",
       "      <td>23.131547</td>\n",
       "      <td>UGC10650_1</td>\n",
       "    </tr>\n",
       "    <tr>\n",
       "      <th>27</th>\n",
       "      <td>UGC10650</td>\n",
       "      <td>255.029000</td>\n",
       "      <td>23.127511</td>\n",
       "      <td>UGC10650_2</td>\n",
       "    </tr>\n",
       "    <tr>\n",
       "      <th>33</th>\n",
       "      <td>UGC7905</td>\n",
       "      <td>190.955833</td>\n",
       "      <td>54.904561</td>\n",
       "      <td>UGC7905_1</td>\n",
       "    </tr>\n",
       "    <tr>\n",
       "      <th>33</th>\n",
       "      <td>UGC7905</td>\n",
       "      <td>190.953875</td>\n",
       "      <td>54.896161</td>\n",
       "      <td>UGC7905_2</td>\n",
       "    </tr>\n",
       "  </tbody>\n",
       "</table>\n",
       "<p>98 rows × 4 columns</p>\n",
       "</div>"
      ],
      "text/plain": [
       "       Names          RA        Dec       names\n",
       "37    Arp101  241.132250  14.819136    Arp101_1\n",
       "37    Arp101  241.118167  14.782103    Arp101_2\n",
       "17    Arp105  167.803750  28.711781    Arp105_1\n",
       "17    Arp105  167.804583  28.696225    Arp105_2\n",
       "18    Arp106  183.899292  28.177728    Arp106_1\n",
       "..       ...         ...        ...         ...\n",
       "35    Pair18  206.212483  13.927621    Pair18_2\n",
       "27  UGC10650  255.028542  23.131547  UGC10650_1\n",
       "27  UGC10650  255.029000  23.127511  UGC10650_2\n",
       "33   UGC7905  190.955833  54.904561   UGC7905_1\n",
       "33   UGC7905  190.953875  54.896161   UGC7905_2\n",
       "\n",
       "[98 rows x 4 columns]"
      ]
     },
     "execution_count": 21,
     "metadata": {},
     "output_type": "execute_result"
    }
   ],
   "source": [
    "df_comb"
   ]
  },
  {
   "cell_type": "code",
   "execution_count": 23,
   "id": "7218445e-3f3e-470b-bd06-4f046546828e",
   "metadata": {},
   "outputs": [],
   "source": [
    "df_red = df[['Names','Redshift','observable','when_best','best_airmass','time_rises']]"
   ]
  },
  {
   "cell_type": "code",
   "execution_count": 28,
   "id": "defda68e-48ca-4a27-8aba-ad2ed479bb8e",
   "metadata": {},
   "outputs": [],
   "source": [
    "df_exp = df_comb.merge(df_red, on = 'Names', how = 'left').drop(columns = ['Names'])[['names','RA','Dec','Redshift','observable','when_best','best_airmass','time_rises']].assign(exp_time = '')"
   ]
  },
  {
   "cell_type": "code",
   "execution_count": 29,
   "id": "f7d1a95a-4c88-42fd-964d-4eb902e4262a",
   "metadata": {},
   "outputs": [],
   "source": [
    "df_exp.to_csv(f'{folder}/available-targets-expanded.csv')"
   ]
  },
  {
   "cell_type": "code",
   "execution_count": null,
   "id": "9356e45a-dcf4-453a-b6d9-b8effd1d318f",
   "metadata": {},
   "outputs": [],
   "source": []
  }
 ],
 "metadata": {
  "kernelspec": {
   "display_name": "Python 3 (ipykernel)",
   "language": "python",
   "name": "python3"
  },
  "language_info": {
   "codemirror_mode": {
    "name": "ipython",
    "version": 3
   },
   "file_extension": ".py",
   "mimetype": "text/x-python",
   "name": "python",
   "nbconvert_exporter": "python",
   "pygments_lexer": "ipython3",
   "version": "3.7.13"
  }
 },
 "nbformat": 4,
 "nbformat_minor": 5
}
