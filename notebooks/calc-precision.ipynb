{
 "cells": [
  {
   "cell_type": "code",
   "execution_count": 2,
   "id": "1e8c7b04-db6f-43ec-a476-97f1cada84a6",
   "metadata": {},
   "outputs": [],
   "source": [
    "from astropy.cosmology import FlatLambdaCDM\n",
    "import astropy.units as u"
   ]
  },
  {
   "cell_type": "code",
   "execution_count": 4,
   "id": "77c2078a-171f-4c7d-9364-2ce332c24489",
   "metadata": {},
   "outputs": [],
   "source": [
    "cosmo = FlatLambdaCDM(H0=67.8 * u.km / u.s / u.Mpc, Tcmb0=2.275 * u.K, Om0 = 0.308)"
   ]
  },
  {
   "cell_type": "code",
   "execution_count": 9,
   "id": "1370414d-9d55-4f93-b331-b355483d9806",
   "metadata": {},
   "outputs": [],
   "source": [
    "z = 0.04\n",
    "native_res = 2.6"
   ]
  },
  {
   "cell_type": "code",
   "execution_count": 10,
   "id": "a8b0153a-e6ab-4049-9bcc-bb92fcb5bd3b",
   "metadata": {},
   "outputs": [],
   "source": [
    "conversion = cosmo.kpc_proper_per_arcmin(z)"
   ]
  },
  {
   "cell_type": "code",
   "execution_count": 12,
   "id": "f20c1917-ce49-4495-8a52-c02ddcc66ab7",
   "metadata": {},
   "outputs": [],
   "source": [
    "Resolution = (native_res * u.arcsec)  * conversion.to(u.kpc / u.arcsec)"
   ]
  },
  {
   "cell_type": "code",
   "execution_count": 13,
   "id": "6e6c1c90-5d05-464c-8852-a8b2af871ac8",
   "metadata": {},
   "outputs": [
    {
     "data": {
      "text/latex": [
       "$2.1237436 \\; \\mathrm{kpc}$"
      ],
      "text/plain": [
       "<Quantity 2.1237436 kpc>"
      ]
     },
     "execution_count": 13,
     "metadata": {},
     "output_type": "execute_result"
    }
   ],
   "source": [
    "Resolution"
   ]
  },
  {
   "cell_type": "code",
   "execution_count": 14,
   "id": "e3a07fa7-9217-4504-b200-0ba20399a939",
   "metadata": {},
   "outputs": [],
   "source": [
    "redshifts = (\n",
    "    [\n",
    "        0.02329,\n",
    "        0.02329,\n",
    "        0.03452,\n",
    "        0.029,\n",
    "        0.029,\n",
    "        0.04,\n",
    "        0.0225,\n",
    "        0.0225,\n",
    "        0.02668,\n",
    "        0.00892,\n",
    "        0.00892,\n",
    "        0.03106,\n",
    "        0.03106,\n",
    "        0.02489,\n",
    "        0.02489,\n",
    "        0.02739,\n",
    "    ]\n",
    ")"
   ]
  },
  {
   "cell_type": "code",
   "execution_count": 15,
   "id": "7c30ac53-422c-4671-8a9b-89fda6cd3860",
   "metadata": {},
   "outputs": [],
   "source": [
    "conversions = cosmo.kpc_proper_per_arcmin(redshifts)"
   ]
  },
  {
   "cell_type": "code",
   "execution_count": 16,
   "id": "b35566cc-d58a-464b-9d0b-3b0b0a4e0bdf",
   "metadata": {},
   "outputs": [],
   "source": [
    "Resolution = (native_res * u.arcsec)  * conversions.to(u.kpc / u.arcsec)"
   ]
  },
  {
   "cell_type": "code",
   "execution_count": 17,
   "id": "aa7a7d67-3de0-490d-a780-319cd731506a",
   "metadata": {},
   "outputs": [
    {
     "data": {
      "text/latex": [
       "$[1.2616993,~1.2616993,~1.8448874,~1.5602185,~1.5602185,~2.1237436,~1.2200699,~1.2200699,~1.4394293,~0.49175611,~0.49175611,~1.6669007,~1.6669007,~1.3457667,~1.3457667,~1.4764675] \\; \\mathrm{kpc}$"
      ],
      "text/plain": [
       "<Quantity [1.26169929, 1.26169929, 1.84488741, 1.56021846, 1.56021846,\n",
       "           2.1237436 , 1.22006989, 1.22006989, 1.43942933, 0.49175611,\n",
       "           0.49175611, 1.66690072, 1.66690072, 1.34576668, 1.34576668,\n",
       "           1.47646745] kpc>"
      ]
     },
     "execution_count": 17,
     "metadata": {},
     "output_type": "execute_result"
    }
   ],
   "source": [
    "Resolution"
   ]
  },
  {
   "cell_type": "code",
   "execution_count": null,
   "id": "78c68f78-70b9-434a-a8ed-c78e8cef9b95",
   "metadata": {},
   "outputs": [],
   "source": []
  }
 ],
 "metadata": {
  "kernelspec": {
   "display_name": "Python 3 (ipykernel)",
   "language": "python",
   "name": "python3"
  },
  "language_info": {
   "codemirror_mode": {
    "name": "ipython",
    "version": 3
   },
   "file_extension": ".py",
   "mimetype": "text/x-python",
   "name": "python",
   "nbconvert_exporter": "python",
   "pygments_lexer": "ipython3",
   "version": "3.7.13"
  }
 },
 "nbformat": 4,
 "nbformat_minor": 5
}
