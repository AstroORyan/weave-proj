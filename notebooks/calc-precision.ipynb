{
 "cells": [
  {
   "cell_type": "code",
   "execution_count": 2,
   "id": "1e8c7b04-db6f-43ec-a476-97f1cada84a6",
   "metadata": {},
   "outputs": [],
   "source": [
    "from astropy.cosmology import FlatLambdaCDM\n",
    "import astropy.units as u\n",
    "\n",
    "import numpy as np"
   ]
  },
  {
   "cell_type": "markdown",
   "id": "81311ddc-0b26-46dc-b3a0-9b52121cafe6",
   "metadata": {},
   "source": [
    "### Testing Measuring Resolution"
   ]
  },
  {
   "cell_type": "code",
   "execution_count": 3,
   "id": "77c2078a-171f-4c7d-9364-2ce332c24489",
   "metadata": {},
   "outputs": [],
   "source": [
    "cosmo = FlatLambdaCDM(H0=67.8 * u.km / u.s / u.Mpc, Tcmb0=2.275 * u.K, Om0 = 0.308)"
   ]
  },
  {
   "cell_type": "code",
   "execution_count": 4,
   "id": "1370414d-9d55-4f93-b331-b355483d9806",
   "metadata": {},
   "outputs": [],
   "source": [
    "z = 0.04\n",
    "native_res = 2.6"
   ]
  },
  {
   "cell_type": "code",
   "execution_count": 5,
   "id": "a8b0153a-e6ab-4049-9bcc-bb92fcb5bd3b",
   "metadata": {},
   "outputs": [],
   "source": [
    "conversion = cosmo.kpc_proper_per_arcmin(z)"
   ]
  },
  {
   "cell_type": "code",
   "execution_count": 6,
   "id": "f20c1917-ce49-4495-8a52-c02ddcc66ab7",
   "metadata": {},
   "outputs": [],
   "source": [
    "Resolution = (native_res * u.arcsec)  * conversion.to(u.kpc / u.arcsec)"
   ]
  },
  {
   "cell_type": "code",
   "execution_count": 7,
   "id": "6e6c1c90-5d05-464c-8852-a8b2af871ac8",
   "metadata": {},
   "outputs": [
    {
     "data": {
      "text/latex": [
       "$2.1237436 \\; \\mathrm{kpc}$"
      ],
      "text/plain": [
       "<Quantity 2.1237436 kpc>"
      ]
     },
     "execution_count": 7,
     "metadata": {},
     "output_type": "execute_result"
    }
   ],
   "source": [
    "Resolution"
   ]
  },
  {
   "cell_type": "markdown",
   "id": "c0e9b5b4-dbf8-46d6-b8bf-e4908b45104c",
   "metadata": {},
   "source": [
    "### Measuring all Resolutions"
   ]
  },
  {
   "cell_type": "code",
   "execution_count": 8,
   "id": "e3a07fa7-9217-4504-b200-0ba20399a939",
   "metadata": {},
   "outputs": [],
   "source": [
    "redshifts = (\n",
    "    [\n",
    "        0.02329,\n",
    "        0.02329,\n",
    "        0.03452,\n",
    "        0.029,\n",
    "        0.029,\n",
    "        0.04,\n",
    "        0.0225,\n",
    "        0.0225,\n",
    "        0.02668,\n",
    "        0.00892,\n",
    "        0.00892,\n",
    "        0.03106,\n",
    "        0.03106,\n",
    "        0.02489,\n",
    "        0.02489,\n",
    "        0.02739,\n",
    "        0.03472,\n",
    "        0.01024\n",
    "    ]\n",
    ")"
   ]
  },
  {
   "cell_type": "code",
   "execution_count": 9,
   "id": "7c30ac53-422c-4671-8a9b-89fda6cd3860",
   "metadata": {},
   "outputs": [],
   "source": [
    "conversions = cosmo.kpc_proper_per_arcmin(redshifts)"
   ]
  },
  {
   "cell_type": "code",
   "execution_count": 10,
   "id": "b35566cc-d58a-464b-9d0b-3b0b0a4e0bdf",
   "metadata": {},
   "outputs": [],
   "source": [
    "Resolution = (native_res * u.arcsec)  * conversions.to(u.kpc / u.arcsec)"
   ]
  },
  {
   "cell_type": "code",
   "execution_count": 11,
   "id": "aa7a7d67-3de0-490d-a780-319cd731506a",
   "metadata": {},
   "outputs": [
    {
     "data": {
      "text/latex": [
       "$[1.2616993,~1.2616993,~1.8448874,~1.5602185,~1.5602185,~2.1237436,~1.2200699,~1.2200699,~1.4394293,~0.49175611,~0.49175611,~1.6669007,~1.6669007,~1.3457667,~1.3457667,~1.4764675,~1.85513,~0.5636166] \\; \\mathrm{kpc}$"
      ],
      "text/plain": [
       "<Quantity [1.26169929, 1.26169929, 1.84488741, 1.56021846, 1.56021846,\n",
       "           2.1237436 , 1.22006989, 1.22006989, 1.43942933, 0.49175611,\n",
       "           0.49175611, 1.66690072, 1.66690072, 1.34576668, 1.34576668,\n",
       "           1.47646745, 1.85512999, 0.5636166 ] kpc>"
      ]
     },
     "execution_count": 11,
     "metadata": {},
     "output_type": "execute_result"
    }
   ],
   "source": [
    "Resolution"
   ]
  },
  {
   "cell_type": "markdown",
   "id": "1a433677-f8af-43c2-ba94-64da8f69361b",
   "metadata": {},
   "source": [
    "### Measruing H$\\alpha$ Emission"
   ]
  },
  {
   "cell_type": "code",
   "execution_count": 15,
   "id": "60c8361f-1daf-41e0-abc3-90473a639bcf",
   "metadata": {},
   "outputs": [],
   "source": [
    "wave_rest_ha = 6564.6"
   ]
  },
  {
   "cell_type": "code",
   "execution_count": 20,
   "id": "c4decbf8-5a26-4678-bd76-f1d873f4d656",
   "metadata": {},
   "outputs": [],
   "source": [
    "wave_obs = wave_rest_ha * (1 + np.array(redshifts))"
   ]
  },
  {
   "cell_type": "code",
   "execution_count": 22,
   "id": "1a01f874-15b5-43d8-aa23-96e698a1820d",
   "metadata": {},
   "outputs": [
    {
     "data": {
      "text/plain": [
       "6623.156232"
      ]
     },
     "execution_count": 22,
     "metadata": {},
     "output_type": "execute_result"
    }
   ],
   "source": [
    "np.min(wave_obs)"
   ]
  },
  {
   "cell_type": "code",
   "execution_count": 23,
   "id": "8d6906ab-f6a7-45b1-a447-9011106a6cc2",
   "metadata": {},
   "outputs": [
    {
     "data": {
      "text/plain": [
       "6827.184"
      ]
     },
     "execution_count": 23,
     "metadata": {},
     "output_type": "execute_result"
    }
   ],
   "source": [
    "np.max(wave_obs)"
   ]
  },
  {
   "cell_type": "markdown",
   "id": "665b3e46-b36b-4fef-b533-89df0305a8da",
   "metadata": {},
   "source": [
    "### Measuring Velocity Errors"
   ]
  },
  {
   "cell_type": "code",
   "execution_count": 28,
   "id": "70171e09-00ad-4172-8164-1b78a78117cd",
   "metadata": {},
   "outputs": [],
   "source": [
    "c = 2.997e8 * u.m / u.s"
   ]
  },
  {
   "cell_type": "code",
   "execution_count": 40,
   "id": "2bdf36aa-e3ae-4d4a-94e3-9952bf0a2ce9",
   "metadata": {},
   "outputs": [],
   "source": [
    "error_wave = (6564.6 - 0.11)"
   ]
  },
  {
   "cell_type": "code",
   "execution_count": 44,
   "id": "b531f53c-9b57-4b91-a45f-f0f8d1fa57d2",
   "metadata": {},
   "outputs": [],
   "source": [
    "v = (c * ((error_wave - wave_rest_ha) / wave_rest_ha)).to(u.km / u.s)"
   ]
  },
  {
   "cell_type": "code",
   "execution_count": 45,
   "id": "fe4cfa01-9e38-464c-915b-899535780683",
   "metadata": {},
   "outputs": [
    {
     "data": {
      "text/latex": [
       "$-5.0219358 \\; \\mathrm{\\frac{km}{s}}$"
      ],
      "text/plain": [
       "<Quantity -5.02193584 km / s>"
      ]
     },
     "execution_count": 45,
     "metadata": {},
     "output_type": "execute_result"
    }
   ],
   "source": [
    "v"
   ]
  },
  {
   "cell_type": "markdown",
   "id": "4d190a98-3ee8-475a-ba2a-a2cc7c8a82cf",
   "metadata": {},
   "source": [
    "### Ranges of Other Lines"
   ]
  },
  {
   "cell_type": "code",
   "execution_count": 47,
   "id": "b7aa93c8-5b2f-487e-8508-e0f91139f8d0",
   "metadata": {},
   "outputs": [],
   "source": [
    "wave_rest_oiii = 4959\n",
    "wave_rest_nii =  6585\n",
    "wave_rest_hb = 5007"
   ]
  },
  {
   "cell_type": "code",
   "execution_count": 50,
   "id": "4fb4a722-d90e-4303-80c7-7877c8d7a0bf",
   "metadata": {},
   "outputs": [
    {
     "name": "stdout",
     "output_type": "stream",
     "text": [
      "5003.234280000001\n",
      "5157.360000000001\n"
     ]
    }
   ],
   "source": [
    "oiii_ranges = wave_rest_oiii * (1 + np.array(redshifts))\n",
    "print(np.min(oiii_ranges))\n",
    "print(np.max(oiii_ranges))"
   ]
  },
  {
   "cell_type": "code",
   "execution_count": 51,
   "id": "064c715d-740b-483c-8e26-ab9c6e596e1c",
   "metadata": {},
   "outputs": [
    {
     "name": "stdout",
     "output_type": "stream",
     "text": [
      "6643.738200000001\n",
      "6848.400000000001\n"
     ]
    }
   ],
   "source": [
    "nii_ranges = wave_rest_nii * (1 + np.array(redshifts))\n",
    "print(np.min(nii_ranges))\n",
    "print(np.max(nii_ranges))"
   ]
  },
  {
   "cell_type": "code",
   "execution_count": 52,
   "id": "776726ed-cab4-4640-9f25-cee1e00fe8c4",
   "metadata": {},
   "outputs": [
    {
     "name": "stdout",
     "output_type": "stream",
     "text": [
      "5051.66244\n",
      "5207.28\n"
     ]
    }
   ],
   "source": [
    "hb_ranges = wave_rest_hb * (1 + np.array(redshifts))\n",
    "print(np.min(hb_ranges))\n",
    "print(np.max(hb_ranges))"
   ]
  },
  {
   "cell_type": "code",
   "execution_count": null,
   "id": "c9d62ece-62f7-4e77-bc9a-a5129a2f2fde",
   "metadata": {},
   "outputs": [],
   "source": []
  }
 ],
 "metadata": {
  "kernelspec": {
   "display_name": "Python 3 (ipykernel)",
   "language": "python",
   "name": "python3"
  },
  "language_info": {
   "codemirror_mode": {
    "name": "ipython",
    "version": 3
   },
   "file_extension": ".py",
   "mimetype": "text/x-python",
   "name": "python",
   "nbconvert_exporter": "python",
   "pygments_lexer": "ipython3",
   "version": "3.7.13"
  }
 },
 "nbformat": 4,
 "nbformat_minor": 5
}
