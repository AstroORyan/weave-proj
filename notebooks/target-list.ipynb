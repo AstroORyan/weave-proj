{
 "cells": [
  {
   "cell_type": "code",
   "execution_count": 1,
   "id": "a0f52f81-8740-4646-b4dd-61bc87c48d2b",
   "metadata": {},
   "outputs": [],
   "source": [
    "import pandas as pd\n",
    "import numpy as np\n",
    "import matplotlib.pyplot as plt"
   ]
  },
  {
   "cell_type": "markdown",
   "id": "0a74c8f1-f20a-4c1d-b149-a687de9ac717",
   "metadata": {},
   "source": [
    "## Getting Data"
   ]
  },
  {
   "cell_type": "code",
   "execution_count": 2,
   "id": "e489d28a-89ce-497d-84ed-91a94ab329a2",
   "metadata": {},
   "outputs": [],
   "source": [
    "proj_folder = 'C:/Users/oryan/Documents/weave-proj/'"
   ]
  },
  {
   "cell_type": "code",
   "execution_count": 3,
   "id": "e0574e5d-0d73-4eb6-be0e-2cbdef4a72be",
   "metadata": {},
   "outputs": [],
   "source": [
    "df = pd.read_csv('C:/Users/oryan/Documents/PySPAM_Original_Python_MCMC/APySPAM_MCMC/data/all_coords.csv', index_col = 0)"
   ]
  },
  {
   "cell_type": "code",
   "execution_count": 4,
   "id": "c4c31663-4c72-4a0d-a46a-dad28b763e32",
   "metadata": {},
   "outputs": [
    {
     "data": {
      "text/plain": [
       "Index(['Prim_RA', 'Prim_DEC', 'Names', 'Sec_RA', 'Sec_DEC'], dtype='object')"
      ]
     },
     "execution_count": 4,
     "metadata": {},
     "output_type": "execute_result"
    }
   ],
   "source": [
    "df.columns"
   ]
  },
  {
   "cell_type": "markdown",
   "id": "376fe7e7-e592-4519-9c4a-e7dc432d2a37",
   "metadata": {},
   "source": [
    "### Getting CSV"
   ]
  },
  {
   "cell_type": "code",
   "execution_count": 5,
   "id": "8661393e-cec1-46de-9051-62410c864cd3",
   "metadata": {},
   "outputs": [],
   "source": [
    "df_red = df[['Names', 'Prim_RA', 'Prim_DEC', 'Sec_RA', 'Sec_DEC']]"
   ]
  },
  {
   "cell_type": "code",
   "execution_count": 6,
   "id": "18dfcbeb-b25a-412e-89a0-9be003c3fff9",
   "metadata": {},
   "outputs": [],
   "source": [
    "df_prim = df_red[['Names', 'Prim_RA','Prim_DEC']]"
   ]
  },
  {
   "cell_type": "code",
   "execution_count": 7,
   "id": "756e36e5-e1e4-4a6a-9e1a-c1c05c422394",
   "metadata": {},
   "outputs": [
    {
     "data": {
      "text/html": [
       "<div>\n",
       "<style scoped>\n",
       "    .dataframe tbody tr th:only-of-type {\n",
       "        vertical-align: middle;\n",
       "    }\n",
       "\n",
       "    .dataframe tbody tr th {\n",
       "        vertical-align: top;\n",
       "    }\n",
       "\n",
       "    .dataframe thead th {\n",
       "        text-align: right;\n",
       "    }\n",
       "</style>\n",
       "<table border=\"1\" class=\"dataframe\">\n",
       "  <thead>\n",
       "    <tr style=\"text-align: right;\">\n",
       "      <th></th>\n",
       "      <th>ra</th>\n",
       "      <th>dec</th>\n",
       "      <th>names</th>\n",
       "    </tr>\n",
       "  </thead>\n",
       "  <tbody>\n",
       "    <tr>\n",
       "      <th>0</th>\n",
       "      <td>204.970333</td>\n",
       "      <td>0.839844</td>\n",
       "      <td>Arp240_1</td>\n",
       "    </tr>\n",
       "    <tr>\n",
       "      <th>1</th>\n",
       "      <td>30.957167</td>\n",
       "      <td>14.738644</td>\n",
       "      <td>Arp290_1</td>\n",
       "    </tr>\n",
       "    <tr>\n",
       "      <th>2</th>\n",
       "      <td>144.433333</td>\n",
       "      <td>2.760164</td>\n",
       "      <td>Arp142_1</td>\n",
       "    </tr>\n",
       "    <tr>\n",
       "      <th>3</th>\n",
       "      <td>32.352333</td>\n",
       "      <td>-10.136006</td>\n",
       "      <td>Arp318_1</td>\n",
       "    </tr>\n",
       "    <tr>\n",
       "      <th>4</th>\n",
       "      <td>4.708583</td>\n",
       "      <td>-10.361625</td>\n",
       "      <td>Arp256_1</td>\n",
       "    </tr>\n",
       "  </tbody>\n",
       "</table>\n",
       "</div>"
      ],
      "text/plain": [
       "           ra        dec      names\n",
       "0  204.970333   0.839844   Arp240_1\n",
       "1   30.957167  14.738644   Arp290_1\n",
       "2  144.433333   2.760164   Arp142_1\n",
       "3   32.352333 -10.136006   Arp318_1\n",
       "4    4.708583 -10.361625   Arp256_1"
      ]
     },
     "execution_count": 7,
     "metadata": {},
     "output_type": "execute_result"
    }
   ],
   "source": [
    "df_prim_reorder = (\n",
    "    df_prim\n",
    "    .assign(names = df_red.Names.apply(lambda x: x+'_1'))\n",
    "    .drop(columns = 'Names')\n",
    "    .rename(columns = {'Prim_RA' : 'ra', 'Prim_DEC' : 'dec'})\n",
    ")\n",
    "df_prim_reorder[:5]"
   ]
  },
  {
   "cell_type": "code",
   "execution_count": 8,
   "id": "a9ad6e30-6f38-4319-a5fa-f406a33f0c2e",
   "metadata": {},
   "outputs": [
    {
     "data": {
      "text/html": [
       "<div>\n",
       "<style scoped>\n",
       "    .dataframe tbody tr th:only-of-type {\n",
       "        vertical-align: middle;\n",
       "    }\n",
       "\n",
       "    .dataframe tbody tr th {\n",
       "        vertical-align: top;\n",
       "    }\n",
       "\n",
       "    .dataframe thead th {\n",
       "        text-align: right;\n",
       "    }\n",
       "</style>\n",
       "<table border=\"1\" class=\"dataframe\">\n",
       "  <thead>\n",
       "    <tr style=\"text-align: right;\">\n",
       "      <th></th>\n",
       "      <th>ra</th>\n",
       "      <th>dec</th>\n",
       "      <th>names</th>\n",
       "    </tr>\n",
       "  </thead>\n",
       "  <tbody>\n",
       "    <tr>\n",
       "      <th>0</th>\n",
       "      <td>204.990208</td>\n",
       "      <td>0.830667</td>\n",
       "      <td>Arp240_2</td>\n",
       "    </tr>\n",
       "    <tr>\n",
       "      <th>1</th>\n",
       "      <td>30.937292</td>\n",
       "      <td>14.709056</td>\n",
       "      <td>Arp290_2</td>\n",
       "    </tr>\n",
       "    <tr>\n",
       "      <th>2</th>\n",
       "      <td>144.437875</td>\n",
       "      <td>2.746886</td>\n",
       "      <td>Arp142_2</td>\n",
       "    </tr>\n",
       "    <tr>\n",
       "      <th>3</th>\n",
       "      <td>32.337292</td>\n",
       "      <td>-10.133158</td>\n",
       "      <td>Arp318_2</td>\n",
       "    </tr>\n",
       "    <tr>\n",
       "      <th>4</th>\n",
       "      <td>4.711833</td>\n",
       "      <td>-10.376950</td>\n",
       "      <td>Arp256_2</td>\n",
       "    </tr>\n",
       "  </tbody>\n",
       "</table>\n",
       "</div>"
      ],
      "text/plain": [
       "           ra        dec      names\n",
       "0  204.990208   0.830667   Arp240_2\n",
       "1   30.937292  14.709056   Arp290_2\n",
       "2  144.437875   2.746886   Arp142_2\n",
       "3   32.337292 -10.133158   Arp318_2\n",
       "4    4.711833 -10.376950   Arp256_2"
      ]
     },
     "execution_count": 8,
     "metadata": {},
     "output_type": "execute_result"
    }
   ],
   "source": [
    "df_sec = df_red[['Names', 'Sec_RA','Sec_DEC']]\n",
    "df_sec_reorder = (\n",
    "    df_sec\n",
    "    .assign(names = df_sec.Names.apply(lambda x: x+'_2'))\n",
    "    .drop(columns = 'Names')\n",
    "    .rename(columns = {'Sec_RA' : 'ra', 'Sec_DEC' : 'dec'})\n",
    ")\n",
    "df_sec_reorder[:5]"
   ]
  },
  {
   "cell_type": "code",
   "execution_count": 9,
   "id": "dcfde99f-b93e-4982-a0ed-01a83a15c809",
   "metadata": {},
   "outputs": [],
   "source": [
    "df_comb = pd.concat([df_prim_reorder, df_sec_reorder]).sort_values('names')"
   ]
  },
  {
   "cell_type": "code",
   "execution_count": 10,
   "id": "df1d5871-7e86-47d0-aa7a-779d6732a3c5",
   "metadata": {},
   "outputs": [],
   "source": [
    "#df_comb.to_csv(f'{proj_folder}/data/potential-target-list.csv')"
   ]
  },
  {
   "cell_type": "markdown",
   "id": "d34330e0-9ca7-4299-9a84-0fd4b3b46a53",
   "metadata": {},
   "source": [
    "### Checking Alt-Az"
   ]
  },
  {
   "cell_type": "code",
   "execution_count": 11,
   "id": "5ac49737-287a-4e16-953f-1fe32c3da0ab",
   "metadata": {},
   "outputs": [
    {
     "data": {
      "text/plain": [
       "365.0"
      ]
     },
     "execution_count": 11,
     "metadata": {},
     "output_type": "execute_result"
    }
   ],
   "source": [
    "7303.5 - 6938.5"
   ]
  },
  {
   "cell_type": "code",
   "execution_count": 12,
   "id": "87986d1e-28cf-4cc9-8472-0607b9b650da",
   "metadata": {},
   "outputs": [
    {
     "data": {
      "text/plain": [
       "8399.5"
      ]
     },
     "execution_count": 12,
     "metadata": {},
     "output_type": "execute_result"
    }
   ],
   "source": [
    "days_since_j2000 = 7669.5 + (2*365)\n",
    "days_since_j2000"
   ]
  },
  {
   "cell_type": "code",
   "execution_count": 13,
   "id": "1497f438-a564-47c7-8190-32e0fab8cf83",
   "metadata": {},
   "outputs": [],
   "source": [
    "lat = 28.7134\n",
    "long  = -17.9058"
   ]
  },
  {
   "cell_type": "code",
   "execution_count": 14,
   "id": "87b0d119-d209-499f-b9f8-d33d12c4dae2",
   "metadata": {},
   "outputs": [],
   "source": [
    "LST = np.zeros(365)\n",
    "for i in range(365):\n",
    "    LST[i] = 100.46 + (0.985647 * (days_since_j2000 + i)) + long + (15 * 23.000)"
   ]
  },
  {
   "cell_type": "code",
   "execution_count": 15,
   "id": "6880f498-5663-4a64-82f0-b0e9ba5278a7",
   "metadata": {},
   "outputs": [],
   "source": [
    "for i in range(365):\n",
    "    while LST[i] > 360:\n",
    "        LST[i] -= 360"
   ]
  },
  {
   "cell_type": "code",
   "execution_count": 16,
   "id": "e8ba7064-fc98-44dc-b075-84335d8aa4c7",
   "metadata": {},
   "outputs": [],
   "source": [
    "ras = {}\n",
    "for i in range(len(df_comb)):\n",
    "    ras[df_comb.names.iloc[i].strip()] = df_comb.ra.iloc[i]"
   ]
  },
  {
   "cell_type": "code",
   "execution_count": 17,
   "id": "f8ad1f54-9a5f-476c-b752-32261818adc3",
   "metadata": {},
   "outputs": [],
   "source": [
    "has = {}\n",
    "for i in list(ras.keys()):\n",
    "    has[i] = []\n",
    "    for j in LST:\n",
    "        HA = j - ras[i]\n",
    "        while HA < 0:\n",
    "            HA += 360\n",
    "        has[i].append(HA)"
   ]
  },
  {
   "cell_type": "code",
   "execution_count": 18,
   "id": "0d8db2e1-4508-434a-bfe4-6a13ad8ed2e7",
   "metadata": {},
   "outputs": [],
   "source": [
    "alts = {}\n",
    "azs = {}\n",
    "df_tmp = df_comb.assign(Names = df_comb.names.apply(lambda x: x.strip()))\n",
    "for i in list(has.keys()):\n",
    "    dec = df_tmp.query('Names == @i').dec.iloc[0]\n",
    "    HA_list = list(has[i])\n",
    "    alts[i] = []\n",
    "    azs[i] = []\n",
    "    for j in HA_list:\n",
    "        sin_alt = np.sin(np.deg2rad(dec)) * np.sin(np.deg2rad(lat)) + np.cos(np.deg2rad(dec))*np.cos(np.deg2rad(lat))*np.cos(np.deg2rad(j))\n",
    "        alt = np.rad2deg(np.arcsin(sin_alt))\n",
    "        alts[i].append(alt)"
   ]
  },
  {
   "cell_type": "code",
   "execution_count": 19,
   "id": "8432c219-1f37-4eb9-a4c8-3b1d601c20d9",
   "metadata": {},
   "outputs": [],
   "source": [
    "target_numbers = np.zeros(365)\n",
    "for i in list(alts.keys()):\n",
    "    alt_list = alts[i]\n",
    "    for counter, j in enumerate(alt_list):\n",
    "        if j >= 15:\n",
    "            target_numbers[counter] += 1"
   ]
  },
  {
   "cell_type": "code",
   "execution_count": 20,
   "id": "e901f38b-f280-4868-8503-15936d5ebef4",
   "metadata": {},
   "outputs": [],
   "source": [
    "month_cuts = [31, 28, 31, 30, 31, 30, 31, 31, 30, 31, 30, 31]\n",
    "dates = []\n",
    "tmp = 0\n",
    "for i in month_cuts:\n",
    "    tmp += i\n",
    "    dates.append(tmp)"
   ]
  },
  {
   "cell_type": "code",
   "execution_count": 21,
   "id": "7afdae74-c747-42ec-b434-2e6f29c46c73",
   "metadata": {},
   "outputs": [],
   "source": [
    "months = ['Jan','Feb','Mar','Apr','May','Jun','Jul','Aug','Sept','Oct','Nov','Dec']"
   ]
  },
  {
   "cell_type": "code",
   "execution_count": 34,
   "id": "86676775-8627-4dc5-a851-0253609a1a71",
   "metadata": {},
   "outputs": [
    {
     "data": {
      "image/png": "[encoded data removed]",
      "text/plain": [
       "<Figure size 500x500 with 1 Axes>"
      ]
     },
     "metadata": {},
     "output_type": "display_data"
    }
   ],
   "source": [
    "plt.figure(figsize=(5,5))\n",
    "plt.plot(np.arange(0,365,1), target_numbers)\n",
    "for counter, i in enumerate(dates):\n",
    "    plt.axvline(i, linestyle = 'dashed',color='orange')\n",
    "    plt.text(i, 50, months[counter], rotation = 90)\n",
    "plt.xlabel('Days')\n",
    "plt.ylabel('Target Count')\n",
    "plt.title('Target Visible for 2023')\n",
    "plt.show()"
   ]
  },
  {
   "cell_type": "code",
   "execution_count": 33,
   "id": "e74a6169-556d-48d4-8faa-0bfbef46bae0",
   "metadata": {},
   "outputs": [
    {
     "data": {
      "image/png": "[encoded data removed]",
      "text/plain": [
       "<Figure size 500x500 with 1 Axes>"
      ]
     },
     "metadata": {},
     "output_type": "display_data"
    }
   ],
   "source": [
    "plt.figure(figsize=(5,5))\n",
    "plt.plot(np.arange(0,365,1), target_numbers / len(df_comb))\n",
    "for counter, i in enumerate(dates):\n",
    "    plt.axvline(i, linestyle = 'dashed', color='orange')\n",
    "    plt.text(i, 0.5, months[counter], rotation = 90)\n",
    "plt.xlabel('Days')\n",
    "plt.ylabel('Target Percentage')\n",
    "plt.title('Target Visible for 2023')\n",
    "plt.show()"
   ]
  },
  {
   "cell_type": "code",
   "execution_count": null,
   "id": "75f312a5-0e3a-48d6-888e-0feb8a26a95a",
   "metadata": {},
   "outputs": [],
   "source": []
  }
 ],
 "metadata": {
  "kernelspec": {
   "display_name": "Python 3 (ipykernel)",
   "language": "python",
   "name": "python3"
  },
  "language_info": {
   "codemirror_mode": {
    "name": "ipython",
    "version": 3
   },
   "file_extension": ".py",
   "mimetype": "text/x-python",
   "name": "python",
   "nbconvert_exporter": "python",
   "pygments_lexer": "ipython3",
   "version": "3.7.13"
  }
 },
 "nbformat": 4,
 "nbformat_minor": 5
}
